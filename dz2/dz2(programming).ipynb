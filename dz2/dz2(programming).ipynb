{
 "cells": [
  {
   "cell_type": "code",
   "execution_count": 3,
   "id": "657307c2",
   "metadata": {},
   "outputs": [],
   "source": [
    "import numpy as np\n",
    "import pandas as pd"
   ]
  },
  {
   "cell_type": "code",
   "execution_count": 5,
   "id": "34e6ce77",
   "metadata": {},
   "outputs": [],
   "source": [
    "juniors = pd.read_csv(\"2017_jun_final.csv\")"
   ]
  },
  {
   "cell_type": "code",
   "execution_count": 35,
   "id": "b6cbe832",
   "metadata": {},
   "outputs": [
    {
     "data": {
      "text/html": [
       "<div>\n",
       "<style scoped>\n",
       "    .dataframe tbody tr th:only-of-type {\n",
       "        vertical-align: middle;\n",
       "    }\n",
       "\n",
       "    .dataframe tbody tr th {\n",
       "        vertical-align: top;\n",
       "    }\n",
       "\n",
       "    .dataframe thead th {\n",
       "        text-align: right;\n",
       "    }\n",
       "</style>\n",
       "<table border=\"1\" class=\"dataframe\">\n",
       "  <thead>\n",
       "    <tr style=\"text-align: right;\">\n",
       "      <th></th>\n",
       "      <th>N</th>\n",
       "      <th>Должность</th>\n",
       "      <th>Язык.программирования</th>\n",
       "      <th>Общий.опыт.работы</th>\n",
       "      <th>Опыт.работы.на.текущем.месте</th>\n",
       "      <th>Зарплата.в.месяц</th>\n",
       "      <th>Изменение.зарплаты.за.12.месяцев</th>\n",
       "      <th>Город</th>\n",
       "      <th>Размер.компании</th>\n",
       "      <th>Тип.компании</th>\n",
       "      <th>Пол</th>\n",
       "      <th>Возраст</th>\n",
       "      <th>Образование</th>\n",
       "      <th>Еще.студент</th>\n",
       "      <th>Уровень.английского</th>\n",
       "      <th>Дата.заполнения</th>\n",
       "      <th>User.Agent</th>\n",
       "      <th>exp</th>\n",
       "      <th>current_job_exp</th>\n",
       "      <th>salary</th>\n",
       "    </tr>\n",
       "  </thead>\n",
       "  <tbody>\n",
       "    <tr>\n",
       "      <th>2</th>\n",
       "      <td>3</td>\n",
       "      <td>Software Engineer</td>\n",
       "      <td>C#/.NET</td>\n",
       "      <td>4</td>\n",
       "      <td>1</td>\n",
       "      <td>2500</td>\n",
       "      <td>800</td>\n",
       "      <td>Киев</td>\n",
       "      <td>до 1000 человек</td>\n",
       "      <td>Аутсорсинговая</td>\n",
       "      <td>мужской</td>\n",
       "      <td>26</td>\n",
       "      <td>Высшее</td>\n",
       "      <td>False</td>\n",
       "      <td>средний</td>\n",
       "      <td>12/06/2017 13:02:47</td>\n",
       "      <td>Mozilla/5.0 (Windows NT 10.0; Win64; x64) Appl...</td>\n",
       "      <td>4.0</td>\n",
       "      <td>1.0</td>\n",
       "      <td>2500</td>\n",
       "    </tr>\n",
       "    <tr>\n",
       "      <th>3</th>\n",
       "      <td>4</td>\n",
       "      <td>Software Engineer</td>\n",
       "      <td>JavaScript</td>\n",
       "      <td>5</td>\n",
       "      <td>4</td>\n",
       "      <td>2000</td>\n",
       "      <td>400</td>\n",
       "      <td>Одесса</td>\n",
       "      <td>до 200 человек</td>\n",
       "      <td>Продуктовая</td>\n",
       "      <td>мужской</td>\n",
       "      <td>30</td>\n",
       "      <td>Среднее</td>\n",
       "      <td>False</td>\n",
       "      <td>ниже среднего</td>\n",
       "      <td>12/06/2017 13:03:01</td>\n",
       "      <td>Mozilla/5.0 (Windows NT 6.1; Win64; x64) Apple...</td>\n",
       "      <td>5.0</td>\n",
       "      <td>4.0</td>\n",
       "      <td>2000</td>\n",
       "    </tr>\n",
       "    <tr>\n",
       "      <th>4</th>\n",
       "      <td>5</td>\n",
       "      <td>Senior Software Engineer</td>\n",
       "      <td>JavaScript</td>\n",
       "      <td>10 и более лет</td>\n",
       "      <td>0.5</td>\n",
       "      <td>4500</td>\n",
       "      <td>500</td>\n",
       "      <td>Другой</td>\n",
       "      <td>до 10 человек</td>\n",
       "      <td>Продуктовая</td>\n",
       "      <td>мужской</td>\n",
       "      <td>30</td>\n",
       "      <td>Техникум / Колледж</td>\n",
       "      <td>False</td>\n",
       "      <td>средний</td>\n",
       "      <td>12/06/2017 13:03:47</td>\n",
       "      <td>Mozilla/5.0 (iPhone; CPU iPhone OS 10_3_2 like...</td>\n",
       "      <td>10.0</td>\n",
       "      <td>0.5</td>\n",
       "      <td>4500</td>\n",
       "    </tr>\n",
       "    <tr>\n",
       "      <th>6</th>\n",
       "      <td>7</td>\n",
       "      <td>Junior Software Engineer</td>\n",
       "      <td>C#/.NET</td>\n",
       "      <td>1</td>\n",
       "      <td>меньше 3 месяцев</td>\n",
       "      <td>600</td>\n",
       "      <td>100</td>\n",
       "      <td>Хмельницкий</td>\n",
       "      <td>до 50 человек</td>\n",
       "      <td>Аутсорсинговая</td>\n",
       "      <td>мужской</td>\n",
       "      <td>23</td>\n",
       "      <td>Высшее</td>\n",
       "      <td>False</td>\n",
       "      <td>ниже среднего</td>\n",
       "      <td>12/06/2017 13:04:26</td>\n",
       "      <td>Mozilla/5.0 (Windows NT 10.0; Win64; x64) Appl...</td>\n",
       "      <td>1.0</td>\n",
       "      <td>0.0</td>\n",
       "      <td>600</td>\n",
       "    </tr>\n",
       "    <tr>\n",
       "      <th>7</th>\n",
       "      <td>8</td>\n",
       "      <td>Senior Software Engineer</td>\n",
       "      <td>C++</td>\n",
       "      <td>6</td>\n",
       "      <td>1</td>\n",
       "      <td>3300</td>\n",
       "      <td>500</td>\n",
       "      <td>Киев</td>\n",
       "      <td>до 10 человек</td>\n",
       "      <td>Продуктовая</td>\n",
       "      <td>мужской</td>\n",
       "      <td>28</td>\n",
       "      <td>Высшее</td>\n",
       "      <td>False</td>\n",
       "      <td>выше среднего</td>\n",
       "      <td>12/06/2017 13:04:27</td>\n",
       "      <td>Mozilla/5.0 (X11; Ubuntu; Linux x86_64; rv:53....</td>\n",
       "      <td>6.0</td>\n",
       "      <td>1.0</td>\n",
       "      <td>3300</td>\n",
       "    </tr>\n",
       "  </tbody>\n",
       "</table>\n",
       "</div>"
      ],
      "text/plain": [
       "   N                 Должность Язык.программирования Общий.опыт.работы  \\\n",
       "2  3         Software Engineer               C#/.NET                 4   \n",
       "3  4         Software Engineer            JavaScript                 5   \n",
       "4  5  Senior Software Engineer            JavaScript    10 и более лет   \n",
       "6  7  Junior Software Engineer               C#/.NET                 1   \n",
       "7  8  Senior Software Engineer                   C++                 6   \n",
       "\n",
       "  Опыт.работы.на.текущем.месте  Зарплата.в.месяц  \\\n",
       "2                            1              2500   \n",
       "3                            4              2000   \n",
       "4                          0.5              4500   \n",
       "6             меньше 3 месяцев               600   \n",
       "7                            1              3300   \n",
       "\n",
       "   Изменение.зарплаты.за.12.месяцев        Город  Размер.компании  \\\n",
       "2                               800         Киев  до 1000 человек   \n",
       "3                               400       Одесса   до 200 человек   \n",
       "4                               500       Другой    до 10 человек   \n",
       "6                               100  Хмельницкий    до 50 человек   \n",
       "7                               500         Киев    до 10 человек   \n",
       "\n",
       "     Тип.компании      Пол  Возраст         Образование  Еще.студент  \\\n",
       "2  Аутсорсинговая  мужской       26              Высшее        False   \n",
       "3     Продуктовая  мужской       30             Среднее        False   \n",
       "4     Продуктовая  мужской       30  Техникум / Колледж        False   \n",
       "6  Аутсорсинговая  мужской       23              Высшее        False   \n",
       "7     Продуктовая  мужской       28              Высшее        False   \n",
       "\n",
       "  Уровень.английского      Дата.заполнения  \\\n",
       "2             средний  12/06/2017 13:02:47   \n",
       "3       ниже среднего  12/06/2017 13:03:01   \n",
       "4             средний  12/06/2017 13:03:47   \n",
       "6       ниже среднего  12/06/2017 13:04:26   \n",
       "7       выше среднего  12/06/2017 13:04:27   \n",
       "\n",
       "                                          User.Agent   exp  current_job_exp  \\\n",
       "2  Mozilla/5.0 (Windows NT 10.0; Win64; x64) Appl...   4.0              1.0   \n",
       "3  Mozilla/5.0 (Windows NT 6.1; Win64; x64) Apple...   5.0              4.0   \n",
       "4  Mozilla/5.0 (iPhone; CPU iPhone OS 10_3_2 like...  10.0              0.5   \n",
       "6  Mozilla/5.0 (Windows NT 10.0; Win64; x64) Appl...   1.0              0.0   \n",
       "7  Mozilla/5.0 (X11; Ubuntu; Linux x86_64; rv:53....   6.0              1.0   \n",
       "\n",
       "   salary  \n",
       "2    2500  \n",
       "3    2000  \n",
       "4    4500  \n",
       "6     600  \n",
       "7    3300  "
      ]
     },
     "execution_count": 35,
     "metadata": {},
     "output_type": "execute_result"
    }
   ],
   "source": [
    "juniors.head()"
   ]
  },
  {
   "cell_type": "code",
   "execution_count": 15,
   "id": "893a3f75",
   "metadata": {},
   "outputs": [
    {
     "data": {
      "text/plain": [
       "(8704, 25)"
      ]
     },
     "execution_count": 15,
     "metadata": {},
     "output_type": "execute_result"
    }
   ],
   "source": [
    "juniors.shape"
   ]
  },
  {
   "cell_type": "code",
   "execution_count": 24,
   "id": "01436327",
   "metadata": {},
   "outputs": [
    {
     "data": {
      "text/plain": [
       "N                                     int64\n",
       "Должность                            object\n",
       "Язык.программирования                object\n",
       "Общий.опыт.работы                    object\n",
       "Опыт.работы.на.текущем.месте         object\n",
       "Зарплата.в.месяц                      int64\n",
       "Изменение.зарплаты.за.12.месяцев      int64\n",
       "Город                                object\n",
       "Размер.компании                      object\n",
       "Тип.компании                         object\n",
       "Пол                                  object\n",
       "Возраст                               int64\n",
       "Образование                          object\n",
       "Еще.студент                            bool\n",
       "Уровень.английского                  object\n",
       "Дата.заполнения                      object\n",
       "User.Agent                           object\n",
       "exp                                 float64\n",
       "current_job_exp                     float64\n",
       "salary                                int64\n",
       "dtype: object"
      ]
     },
     "execution_count": 24,
     "metadata": {},
     "output_type": "execute_result"
    }
   ],
   "source": [
    "juniors.dtypes"
   ]
  },
  {
   "cell_type": "code",
   "execution_count": 30,
   "id": "ba75b4e5",
   "metadata": {},
   "outputs": [
    {
     "data": {
      "text/plain": [
       "N                                   0\n",
       "Должность                           0\n",
       "Язык.программирования               0\n",
       "Общий.опыт.работы                   0\n",
       "Опыт.работы.на.текущем.месте        0\n",
       "Зарплата.в.месяц                    0\n",
       "Изменение.зарплаты.за.12.месяцев    0\n",
       "Город                               0\n",
       "Размер.компании                     0\n",
       "Тип.компании                        0\n",
       "Пол                                 0\n",
       "Возраст                             0\n",
       "Образование                         0\n",
       "Еще.студент                         0\n",
       "Уровень.английского                 0\n",
       "Дата.заполнения                     0\n",
       "User.Agent                          0\n",
       "exp                                 0\n",
       "current_job_exp                     0\n",
       "salary                              0\n",
       "dtype: int64"
      ]
     },
     "execution_count": 30,
     "metadata": {},
     "output_type": "execute_result"
    }
   ],
   "source": [
    "juniors.isnull().sum()"
   ]
  },
  {
   "cell_type": "code",
   "execution_count": 28,
   "id": "de508c67",
   "metadata": {},
   "outputs": [
    {
     "ename": "KeyError",
     "evalue": "\"['Специализация', 'Университет', 'Предметная.область', 'Валюта', 'cls'] not found in axis\"",
     "output_type": "error",
     "traceback": [
      "\u001b[1;31m---------------------------------------------------------------------------\u001b[0m",
      "\u001b[1;31mKeyError\u001b[0m                                  Traceback (most recent call last)",
      "Input \u001b[1;32mIn [28]\u001b[0m, in \u001b[0;36m<cell line: 1>\u001b[1;34m()\u001b[0m\n\u001b[1;32m----> 1\u001b[0m \u001b[43mjuniors\u001b[49m\u001b[38;5;241;43m.\u001b[39;49m\u001b[43mdrop\u001b[49m\u001b[43m(\u001b[49m\u001b[43m[\u001b[49m\u001b[38;5;124;43m\"\u001b[39;49m\u001b[38;5;124;43mСпециализация\u001b[39;49m\u001b[38;5;124;43m\"\u001b[39;49m\u001b[43m,\u001b[49m\u001b[43m \u001b[49m\u001b[38;5;124;43m\"\u001b[39;49m\u001b[38;5;124;43mУниверситет\u001b[39;49m\u001b[38;5;124;43m\"\u001b[39;49m\u001b[43m,\u001b[49m\u001b[43m \u001b[49m\u001b[38;5;124;43m\"\u001b[39;49m\u001b[38;5;124;43mПредметная.область\u001b[39;49m\u001b[38;5;124;43m\"\u001b[39;49m\u001b[43m,\u001b[49m\u001b[43m \u001b[49m\u001b[38;5;124;43m\"\u001b[39;49m\u001b[38;5;124;43mВалюта\u001b[39;49m\u001b[38;5;124;43m\"\u001b[39;49m\u001b[43m,\u001b[49m\u001b[43m \u001b[49m\u001b[38;5;124;43m\"\u001b[39;49m\u001b[38;5;124;43mcls\u001b[39;49m\u001b[38;5;124;43m\"\u001b[39;49m\u001b[43m]\u001b[49m\u001b[43m,\u001b[49m\u001b[43m \u001b[49m\u001b[43maxis\u001b[49m\u001b[38;5;241;43m=\u001b[39;49m\u001b[38;5;241;43m1\u001b[39;49m\u001b[43m,\u001b[49m\u001b[43m \u001b[49m\u001b[43minplace\u001b[49m\u001b[38;5;241;43m=\u001b[39;49m\u001b[38;5;28;43;01mTrue\u001b[39;49;00m\u001b[43m)\u001b[49m\n",
      "File \u001b[1;32mC:\\Python 3.9.6\\lib\\site-packages\\pandas\\util\\_decorators.py:311\u001b[0m, in \u001b[0;36mdeprecate_nonkeyword_arguments.<locals>.decorate.<locals>.wrapper\u001b[1;34m(*args, **kwargs)\u001b[0m\n\u001b[0;32m    305\u001b[0m \u001b[38;5;28;01mif\u001b[39;00m \u001b[38;5;28mlen\u001b[39m(args) \u001b[38;5;241m>\u001b[39m num_allow_args:\n\u001b[0;32m    306\u001b[0m     warnings\u001b[38;5;241m.\u001b[39mwarn(\n\u001b[0;32m    307\u001b[0m         msg\u001b[38;5;241m.\u001b[39mformat(arguments\u001b[38;5;241m=\u001b[39marguments),\n\u001b[0;32m    308\u001b[0m         \u001b[38;5;167;01mFutureWarning\u001b[39;00m,\n\u001b[0;32m    309\u001b[0m         stacklevel\u001b[38;5;241m=\u001b[39mstacklevel,\n\u001b[0;32m    310\u001b[0m     )\n\u001b[1;32m--> 311\u001b[0m \u001b[38;5;28;01mreturn\u001b[39;00m func(\u001b[38;5;241m*\u001b[39margs, \u001b[38;5;241m*\u001b[39m\u001b[38;5;241m*\u001b[39mkwargs)\n",
      "File \u001b[1;32mC:\\Python 3.9.6\\lib\\site-packages\\pandas\\core\\frame.py:4954\u001b[0m, in \u001b[0;36mDataFrame.drop\u001b[1;34m(self, labels, axis, index, columns, level, inplace, errors)\u001b[0m\n\u001b[0;32m   4806\u001b[0m \u001b[38;5;129m@deprecate_nonkeyword_arguments\u001b[39m(version\u001b[38;5;241m=\u001b[39m\u001b[38;5;28;01mNone\u001b[39;00m, allowed_args\u001b[38;5;241m=\u001b[39m[\u001b[38;5;124m\"\u001b[39m\u001b[38;5;124mself\u001b[39m\u001b[38;5;124m\"\u001b[39m, \u001b[38;5;124m\"\u001b[39m\u001b[38;5;124mlabels\u001b[39m\u001b[38;5;124m\"\u001b[39m])\n\u001b[0;32m   4807\u001b[0m \u001b[38;5;28;01mdef\u001b[39;00m \u001b[38;5;21mdrop\u001b[39m(\n\u001b[0;32m   4808\u001b[0m     \u001b[38;5;28mself\u001b[39m,\n\u001b[1;32m   (...)\u001b[0m\n\u001b[0;32m   4815\u001b[0m     errors: \u001b[38;5;28mstr\u001b[39m \u001b[38;5;241m=\u001b[39m \u001b[38;5;124m\"\u001b[39m\u001b[38;5;124mraise\u001b[39m\u001b[38;5;124m\"\u001b[39m,\n\u001b[0;32m   4816\u001b[0m ):\n\u001b[0;32m   4817\u001b[0m     \u001b[38;5;124;03m\"\"\"\u001b[39;00m\n\u001b[0;32m   4818\u001b[0m \u001b[38;5;124;03m    Drop specified labels from rows or columns.\u001b[39;00m\n\u001b[0;32m   4819\u001b[0m \n\u001b[1;32m   (...)\u001b[0m\n\u001b[0;32m   4952\u001b[0m \u001b[38;5;124;03m            weight  1.0     0.8\u001b[39;00m\n\u001b[0;32m   4953\u001b[0m \u001b[38;5;124;03m    \"\"\"\u001b[39;00m\n\u001b[1;32m-> 4954\u001b[0m     \u001b[38;5;28;01mreturn\u001b[39;00m \u001b[38;5;28;43msuper\u001b[39;49m\u001b[43m(\u001b[49m\u001b[43m)\u001b[49m\u001b[38;5;241;43m.\u001b[39;49m\u001b[43mdrop\u001b[49m\u001b[43m(\u001b[49m\n\u001b[0;32m   4955\u001b[0m \u001b[43m        \u001b[49m\u001b[43mlabels\u001b[49m\u001b[38;5;241;43m=\u001b[39;49m\u001b[43mlabels\u001b[49m\u001b[43m,\u001b[49m\n\u001b[0;32m   4956\u001b[0m \u001b[43m        \u001b[49m\u001b[43maxis\u001b[49m\u001b[38;5;241;43m=\u001b[39;49m\u001b[43maxis\u001b[49m\u001b[43m,\u001b[49m\n\u001b[0;32m   4957\u001b[0m \u001b[43m        \u001b[49m\u001b[43mindex\u001b[49m\u001b[38;5;241;43m=\u001b[39;49m\u001b[43mindex\u001b[49m\u001b[43m,\u001b[49m\n\u001b[0;32m   4958\u001b[0m \u001b[43m        \u001b[49m\u001b[43mcolumns\u001b[49m\u001b[38;5;241;43m=\u001b[39;49m\u001b[43mcolumns\u001b[49m\u001b[43m,\u001b[49m\n\u001b[0;32m   4959\u001b[0m \u001b[43m        \u001b[49m\u001b[43mlevel\u001b[49m\u001b[38;5;241;43m=\u001b[39;49m\u001b[43mlevel\u001b[49m\u001b[43m,\u001b[49m\n\u001b[0;32m   4960\u001b[0m \u001b[43m        \u001b[49m\u001b[43minplace\u001b[49m\u001b[38;5;241;43m=\u001b[39;49m\u001b[43minplace\u001b[49m\u001b[43m,\u001b[49m\n\u001b[0;32m   4961\u001b[0m \u001b[43m        \u001b[49m\u001b[43merrors\u001b[49m\u001b[38;5;241;43m=\u001b[39;49m\u001b[43merrors\u001b[49m\u001b[43m,\u001b[49m\n\u001b[0;32m   4962\u001b[0m \u001b[43m    \u001b[49m\u001b[43m)\u001b[49m\n",
      "File \u001b[1;32mC:\\Python 3.9.6\\lib\\site-packages\\pandas\\core\\generic.py:4267\u001b[0m, in \u001b[0;36mNDFrame.drop\u001b[1;34m(self, labels, axis, index, columns, level, inplace, errors)\u001b[0m\n\u001b[0;32m   4265\u001b[0m \u001b[38;5;28;01mfor\u001b[39;00m axis, labels \u001b[38;5;129;01min\u001b[39;00m axes\u001b[38;5;241m.\u001b[39mitems():\n\u001b[0;32m   4266\u001b[0m     \u001b[38;5;28;01mif\u001b[39;00m labels \u001b[38;5;129;01mis\u001b[39;00m \u001b[38;5;129;01mnot\u001b[39;00m \u001b[38;5;28;01mNone\u001b[39;00m:\n\u001b[1;32m-> 4267\u001b[0m         obj \u001b[38;5;241m=\u001b[39m \u001b[43mobj\u001b[49m\u001b[38;5;241;43m.\u001b[39;49m\u001b[43m_drop_axis\u001b[49m\u001b[43m(\u001b[49m\u001b[43mlabels\u001b[49m\u001b[43m,\u001b[49m\u001b[43m \u001b[49m\u001b[43maxis\u001b[49m\u001b[43m,\u001b[49m\u001b[43m \u001b[49m\u001b[43mlevel\u001b[49m\u001b[38;5;241;43m=\u001b[39;49m\u001b[43mlevel\u001b[49m\u001b[43m,\u001b[49m\u001b[43m \u001b[49m\u001b[43merrors\u001b[49m\u001b[38;5;241;43m=\u001b[39;49m\u001b[43merrors\u001b[49m\u001b[43m)\u001b[49m\n\u001b[0;32m   4269\u001b[0m \u001b[38;5;28;01mif\u001b[39;00m inplace:\n\u001b[0;32m   4270\u001b[0m     \u001b[38;5;28mself\u001b[39m\u001b[38;5;241m.\u001b[39m_update_inplace(obj)\n",
      "File \u001b[1;32mC:\\Python 3.9.6\\lib\\site-packages\\pandas\\core\\generic.py:4311\u001b[0m, in \u001b[0;36mNDFrame._drop_axis\u001b[1;34m(self, labels, axis, level, errors, consolidate, only_slice)\u001b[0m\n\u001b[0;32m   4309\u001b[0m         new_axis \u001b[38;5;241m=\u001b[39m axis\u001b[38;5;241m.\u001b[39mdrop(labels, level\u001b[38;5;241m=\u001b[39mlevel, errors\u001b[38;5;241m=\u001b[39merrors)\n\u001b[0;32m   4310\u001b[0m     \u001b[38;5;28;01melse\u001b[39;00m:\n\u001b[1;32m-> 4311\u001b[0m         new_axis \u001b[38;5;241m=\u001b[39m \u001b[43maxis\u001b[49m\u001b[38;5;241;43m.\u001b[39;49m\u001b[43mdrop\u001b[49m\u001b[43m(\u001b[49m\u001b[43mlabels\u001b[49m\u001b[43m,\u001b[49m\u001b[43m \u001b[49m\u001b[43merrors\u001b[49m\u001b[38;5;241;43m=\u001b[39;49m\u001b[43merrors\u001b[49m\u001b[43m)\u001b[49m\n\u001b[0;32m   4312\u001b[0m     indexer \u001b[38;5;241m=\u001b[39m axis\u001b[38;5;241m.\u001b[39mget_indexer(new_axis)\n\u001b[0;32m   4314\u001b[0m \u001b[38;5;66;03m# Case for non-unique axis\u001b[39;00m\n\u001b[0;32m   4315\u001b[0m \u001b[38;5;28;01melse\u001b[39;00m:\n",
      "File \u001b[1;32mC:\\Python 3.9.6\\lib\\site-packages\\pandas\\core\\indexes\\base.py:6644\u001b[0m, in \u001b[0;36mIndex.drop\u001b[1;34m(self, labels, errors)\u001b[0m\n\u001b[0;32m   6642\u001b[0m \u001b[38;5;28;01mif\u001b[39;00m mask\u001b[38;5;241m.\u001b[39many():\n\u001b[0;32m   6643\u001b[0m     \u001b[38;5;28;01mif\u001b[39;00m errors \u001b[38;5;241m!=\u001b[39m \u001b[38;5;124m\"\u001b[39m\u001b[38;5;124mignore\u001b[39m\u001b[38;5;124m\"\u001b[39m:\n\u001b[1;32m-> 6644\u001b[0m         \u001b[38;5;28;01mraise\u001b[39;00m \u001b[38;5;167;01mKeyError\u001b[39;00m(\u001b[38;5;124mf\u001b[39m\u001b[38;5;124m\"\u001b[39m\u001b[38;5;132;01m{\u001b[39;00m\u001b[38;5;28mlist\u001b[39m(labels[mask])\u001b[38;5;132;01m}\u001b[39;00m\u001b[38;5;124m not found in axis\u001b[39m\u001b[38;5;124m\"\u001b[39m)\n\u001b[0;32m   6645\u001b[0m     indexer \u001b[38;5;241m=\u001b[39m indexer[\u001b[38;5;241m~\u001b[39mmask]\n\u001b[0;32m   6646\u001b[0m \u001b[38;5;28;01mreturn\u001b[39;00m \u001b[38;5;28mself\u001b[39m\u001b[38;5;241m.\u001b[39mdelete(indexer)\n",
      "\u001b[1;31mKeyError\u001b[0m: \"['Специализация', 'Университет', 'Предметная.область', 'Валюта', 'cls'] not found in axis\""
     ]
    }
   ],
   "source": [
    "juniors.drop([\"Специализация\", \"Университет\", \"Предметная.область\", \"Валюта\", \"cls\"], axis=1, inplace=True)"
   ]
  },
  {
   "cell_type": "code",
   "execution_count": 32,
   "id": "8bcf87bb",
   "metadata": {},
   "outputs": [],
   "source": [
    "juniors.dropna(inplace=True)"
   ]
  },
  {
   "cell_type": "code",
   "execution_count": 36,
   "id": "2eae8b8f",
   "metadata": {},
   "outputs": [
    {
     "data": {
      "text/plain": [
       "(4854, 20)"
      ]
     },
     "execution_count": 36,
     "metadata": {},
     "output_type": "execute_result"
    }
   ],
   "source": [
    "juniors.shape"
   ]
  },
  {
   "cell_type": "code",
   "execution_count": 38,
   "id": "30896321",
   "metadata": {},
   "outputs": [],
   "source": [
    "python_juns = juniors[juniors[\"Язык.программирования\"] == \"Python\"]"
   ]
  },
  {
   "cell_type": "code",
   "execution_count": 40,
   "id": "098ceb2c",
   "metadata": {},
   "outputs": [
    {
     "data": {
      "text/html": [
       "<div>\n",
       "<style scoped>\n",
       "    .dataframe tbody tr th:only-of-type {\n",
       "        vertical-align: middle;\n",
       "    }\n",
       "\n",
       "    .dataframe tbody tr th {\n",
       "        vertical-align: top;\n",
       "    }\n",
       "\n",
       "    .dataframe thead th {\n",
       "        text-align: right;\n",
       "    }\n",
       "</style>\n",
       "<table border=\"1\" class=\"dataframe\">\n",
       "  <thead>\n",
       "    <tr style=\"text-align: right;\">\n",
       "      <th></th>\n",
       "      <th>N</th>\n",
       "      <th>Должность</th>\n",
       "      <th>Язык.программирования</th>\n",
       "      <th>Общий.опыт.работы</th>\n",
       "      <th>Опыт.работы.на.текущем.месте</th>\n",
       "      <th>Зарплата.в.месяц</th>\n",
       "      <th>Изменение.зарплаты.за.12.месяцев</th>\n",
       "      <th>Город</th>\n",
       "      <th>Размер.компании</th>\n",
       "      <th>Тип.компании</th>\n",
       "      <th>Пол</th>\n",
       "      <th>Возраст</th>\n",
       "      <th>Образование</th>\n",
       "      <th>Еще.студент</th>\n",
       "      <th>Уровень.английского</th>\n",
       "      <th>Дата.заполнения</th>\n",
       "      <th>User.Agent</th>\n",
       "      <th>exp</th>\n",
       "      <th>current_job_exp</th>\n",
       "      <th>salary</th>\n",
       "    </tr>\n",
       "  </thead>\n",
       "  <tbody>\n",
       "    <tr>\n",
       "      <th>12</th>\n",
       "      <td>13</td>\n",
       "      <td>Software Engineer</td>\n",
       "      <td>Python</td>\n",
       "      <td>1</td>\n",
       "      <td>меньше 3 месяцев</td>\n",
       "      <td>800</td>\n",
       "      <td>200</td>\n",
       "      <td>Киев</td>\n",
       "      <td>до 50 человек</td>\n",
       "      <td>Аутсорсинговая</td>\n",
       "      <td>мужской</td>\n",
       "      <td>26</td>\n",
       "      <td>Высшее</td>\n",
       "      <td>False</td>\n",
       "      <td>ниже среднего</td>\n",
       "      <td>12/06/2017 13:05:54</td>\n",
       "      <td>Mozilla/5.0 (Windows NT 6.1; Win64; x64) Apple...</td>\n",
       "      <td>1.0</td>\n",
       "      <td>0.0</td>\n",
       "      <td>800</td>\n",
       "    </tr>\n",
       "    <tr>\n",
       "      <th>68</th>\n",
       "      <td>69</td>\n",
       "      <td>Software Engineer</td>\n",
       "      <td>Python</td>\n",
       "      <td>1.5</td>\n",
       "      <td>0.5</td>\n",
       "      <td>900</td>\n",
       "      <td>900</td>\n",
       "      <td>Киев</td>\n",
       "      <td>до 10 человек</td>\n",
       "      <td>Стартап</td>\n",
       "      <td>мужской</td>\n",
       "      <td>21</td>\n",
       "      <td>Незаконченное высшее</td>\n",
       "      <td>True</td>\n",
       "      <td>выше среднего</td>\n",
       "      <td>12/06/2017 13:11:17</td>\n",
       "      <td>Mozilla/5.0 (Windows NT 10.0; Win64; x64) Appl...</td>\n",
       "      <td>1.5</td>\n",
       "      <td>0.5</td>\n",
       "      <td>900</td>\n",
       "    </tr>\n",
       "    <tr>\n",
       "      <th>87</th>\n",
       "      <td>88</td>\n",
       "      <td>Junior Software Engineer</td>\n",
       "      <td>Python</td>\n",
       "      <td>0.5</td>\n",
       "      <td>0.5</td>\n",
       "      <td>600</td>\n",
       "      <td>0</td>\n",
       "      <td>Киев</td>\n",
       "      <td>до 10 человек</td>\n",
       "      <td>Аутсорсинговая</td>\n",
       "      <td>мужской</td>\n",
       "      <td>19</td>\n",
       "      <td>Незаконченное высшее</td>\n",
       "      <td>True</td>\n",
       "      <td>выше среднего</td>\n",
       "      <td>12/06/2017 13:12:25</td>\n",
       "      <td>Mozilla/5.0 (X11; Linux x86_64) AppleWebKit/53...</td>\n",
       "      <td>0.5</td>\n",
       "      <td>0.5</td>\n",
       "      <td>600</td>\n",
       "    </tr>\n",
       "    <tr>\n",
       "      <th>114</th>\n",
       "      <td>115</td>\n",
       "      <td>Junior Software Engineer</td>\n",
       "      <td>Python</td>\n",
       "      <td>1.5</td>\n",
       "      <td>0.5</td>\n",
       "      <td>685</td>\n",
       "      <td>250</td>\n",
       "      <td>Киев</td>\n",
       "      <td>до 1000 человек</td>\n",
       "      <td>Аутсорсинговая</td>\n",
       "      <td>мужской</td>\n",
       "      <td>21</td>\n",
       "      <td>Незаконченное высшее</td>\n",
       "      <td>False</td>\n",
       "      <td>средний</td>\n",
       "      <td>12/06/2017 13:14:52</td>\n",
       "      <td>Mozilla/5.0 (X11; Linux x86_64) AppleWebKit/53...</td>\n",
       "      <td>1.5</td>\n",
       "      <td>0.5</td>\n",
       "      <td>685</td>\n",
       "    </tr>\n",
       "    <tr>\n",
       "      <th>143</th>\n",
       "      <td>144</td>\n",
       "      <td>Junior Software Engineer</td>\n",
       "      <td>Python</td>\n",
       "      <td>1</td>\n",
       "      <td>1</td>\n",
       "      <td>750</td>\n",
       "      <td>250</td>\n",
       "      <td>Киев</td>\n",
       "      <td>до 10 человек</td>\n",
       "      <td>Аутсорсинговая</td>\n",
       "      <td>мужской</td>\n",
       "      <td>21</td>\n",
       "      <td>Незаконченное высшее</td>\n",
       "      <td>True</td>\n",
       "      <td>выше среднего</td>\n",
       "      <td>12/06/2017 13:19:10</td>\n",
       "      <td>Mozilla/5.0 (X11; Linux x86_64) AppleWebKit/53...</td>\n",
       "      <td>1.0</td>\n",
       "      <td>1.0</td>\n",
       "      <td>750</td>\n",
       "    </tr>\n",
       "  </tbody>\n",
       "</table>\n",
       "</div>"
      ],
      "text/plain": [
       "       N                 Должность Язык.программирования Общий.опыт.работы  \\\n",
       "12    13         Software Engineer                Python                 1   \n",
       "68    69         Software Engineer                Python               1.5   \n",
       "87    88  Junior Software Engineer                Python               0.5   \n",
       "114  115  Junior Software Engineer                Python               1.5   \n",
       "143  144  Junior Software Engineer                Python                 1   \n",
       "\n",
       "    Опыт.работы.на.текущем.месте  Зарплата.в.месяц  \\\n",
       "12              меньше 3 месяцев               800   \n",
       "68                           0.5               900   \n",
       "87                           0.5               600   \n",
       "114                          0.5               685   \n",
       "143                            1               750   \n",
       "\n",
       "     Изменение.зарплаты.за.12.месяцев Город  Размер.компании    Тип.компании  \\\n",
       "12                                200  Киев    до 50 человек  Аутсорсинговая   \n",
       "68                                900  Киев    до 10 человек         Стартап   \n",
       "87                                  0  Киев    до 10 человек  Аутсорсинговая   \n",
       "114                               250  Киев  до 1000 человек  Аутсорсинговая   \n",
       "143                               250  Киев    до 10 человек  Аутсорсинговая   \n",
       "\n",
       "         Пол  Возраст           Образование  Еще.студент Уровень.английского  \\\n",
       "12   мужской       26                Высшее        False       ниже среднего   \n",
       "68   мужской       21  Незаконченное высшее         True       выше среднего   \n",
       "87   мужской       19  Незаконченное высшее         True       выше среднего   \n",
       "114  мужской       21  Незаконченное высшее        False             средний   \n",
       "143  мужской       21  Незаконченное высшее         True       выше среднего   \n",
       "\n",
       "         Дата.заполнения                                         User.Agent  \\\n",
       "12   12/06/2017 13:05:54  Mozilla/5.0 (Windows NT 6.1; Win64; x64) Apple...   \n",
       "68   12/06/2017 13:11:17  Mozilla/5.0 (Windows NT 10.0; Win64; x64) Appl...   \n",
       "87   12/06/2017 13:12:25  Mozilla/5.0 (X11; Linux x86_64) AppleWebKit/53...   \n",
       "114  12/06/2017 13:14:52  Mozilla/5.0 (X11; Linux x86_64) AppleWebKit/53...   \n",
       "143  12/06/2017 13:19:10  Mozilla/5.0 (X11; Linux x86_64) AppleWebKit/53...   \n",
       "\n",
       "     exp  current_job_exp  salary  \n",
       "12   1.0              0.0     800  \n",
       "68   1.5              0.5     900  \n",
       "87   0.5              0.5     600  \n",
       "114  1.5              0.5     685  \n",
       "143  1.0              1.0     750  "
      ]
     },
     "execution_count": 40,
     "metadata": {},
     "output_type": "execute_result"
    }
   ],
   "source": [
    "python_juns.head()"
   ]
  },
  {
   "cell_type": "code",
   "execution_count": 43,
   "id": "7ef978c9",
   "metadata": {},
   "outputs": [
    {
     "data": {
      "text/plain": [
       "(207, 20)"
      ]
     },
     "execution_count": 43,
     "metadata": {},
     "output_type": "execute_result"
    }
   ],
   "source": [
    "python_juns.shape"
   ]
  },
  {
   "cell_type": "code",
   "execution_count": 46,
   "id": "7100f4a4",
   "metadata": {},
   "outputs": [],
   "source": [
    "position = python_juns.groupby(\"Должность\")"
   ]
  },
  {
   "cell_type": "code",
   "execution_count": 49,
   "id": "6d03c684",
   "metadata": {},
   "outputs": [
    {
     "data": {
      "text/html": [
       "<div>\n",
       "<style scoped>\n",
       "    .dataframe tbody tr th:only-of-type {\n",
       "        vertical-align: middle;\n",
       "    }\n",
       "\n",
       "    .dataframe tbody tr th {\n",
       "        vertical-align: top;\n",
       "    }\n",
       "\n",
       "    .dataframe thead th {\n",
       "        text-align: right;\n",
       "    }\n",
       "</style>\n",
       "<table border=\"1\" class=\"dataframe\">\n",
       "  <thead>\n",
       "    <tr style=\"text-align: right;\">\n",
       "      <th></th>\n",
       "      <th>min</th>\n",
       "      <th>max</th>\n",
       "    </tr>\n",
       "    <tr>\n",
       "      <th>Должность</th>\n",
       "      <th></th>\n",
       "      <th></th>\n",
       "    </tr>\n",
       "  </thead>\n",
       "  <tbody>\n",
       "    <tr>\n",
       "      <th>Junior Software Engineer</th>\n",
       "      <td>100</td>\n",
       "      <td>1250</td>\n",
       "    </tr>\n",
       "    <tr>\n",
       "      <th>Senior Software Engineer</th>\n",
       "      <td>1300</td>\n",
       "      <td>9200</td>\n",
       "    </tr>\n",
       "    <tr>\n",
       "      <th>Software Engineer</th>\n",
       "      <td>500</td>\n",
       "      <td>5400</td>\n",
       "    </tr>\n",
       "    <tr>\n",
       "      <th>System Architect</th>\n",
       "      <td>3000</td>\n",
       "      <td>5000</td>\n",
       "    </tr>\n",
       "    <tr>\n",
       "      <th>Technical Lead</th>\n",
       "      <td>1425</td>\n",
       "      <td>6200</td>\n",
       "    </tr>\n",
       "  </tbody>\n",
       "</table>\n",
       "</div>"
      ],
      "text/plain": [
       "                           min   max\n",
       "Должность                           \n",
       "Junior Software Engineer   100  1250\n",
       "Senior Software Engineer  1300  9200\n",
       "Software Engineer          500  5400\n",
       "System Architect          3000  5000\n",
       "Technical Lead            1425  6200"
      ]
     },
     "execution_count": 49,
     "metadata": {},
     "output_type": "execute_result"
    }
   ],
   "source": [
    "position[\"Зарплата.в.месяц\"].agg(['min', 'max'])"
   ]
  },
  {
   "cell_type": "code",
   "execution_count": 51,
   "id": "7a3f9a3d",
   "metadata": {},
   "outputs": [],
   "source": [
    "def fill_avg_salary(row):\n",
    "    return (row[\"min\"] + row[\"max\"]) / 2"
   ]
  },
  {
   "cell_type": "code",
   "execution_count": 54,
   "id": "f0f6fd3d",
   "metadata": {},
   "outputs": [],
   "source": [
    "avg_salary = position[\"Зарплата.в.месяц\"].agg(['min', 'max']).apply(fill_avg_salary, axis=1)"
   ]
  },
  {
   "cell_type": "code",
   "execution_count": 56,
   "id": "9f4f62b5",
   "metadata": {},
   "outputs": [
    {
     "data": {
      "text/plain": [
       "count       5.000000\n",
       "mean     3337.500000\n",
       "std      1700.091909\n",
       "min       675.000000\n",
       "25%      2950.000000\n",
       "50%      3812.500000\n",
       "75%      4000.000000\n",
       "max      5250.000000\n",
       "dtype: float64"
      ]
     },
     "execution_count": 56,
     "metadata": {},
     "output_type": "execute_result"
    }
   ],
   "source": [
    "avg_salary.describe()"
   ]
  },
  {
   "cell_type": "code",
   "execution_count": 57,
   "id": "cf3a9822",
   "metadata": {},
   "outputs": [],
   "source": [
    "avg_salary.to_csv(\"avg_python_salary.csv\")"
   ]
  }
 ],
 "metadata": {
  "kernelspec": {
   "display_name": "Python 3 (ipykernel)",
   "language": "python",
   "name": "python3"
  },
  "language_info": {
   "codemirror_mode": {
    "name": "ipython",
    "version": 3
   },
   "file_extension": ".py",
   "mimetype": "text/x-python",
   "name": "python",
   "nbconvert_exporter": "python",
   "pygments_lexer": "ipython3",
   "version": "3.9.6"
  }
 },
 "nbformat": 4,
 "nbformat_minor": 5
}
