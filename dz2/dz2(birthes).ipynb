{
 "cells": [
  {
   "cell_type": "code",
   "execution_count": 2,
   "id": "6a2b7a75",
   "metadata": {},
   "outputs": [],
   "source": [
    "import pandas as pd\n",
    "import numpy as np"
   ]
  },
  {
   "cell_type": "code",
   "execution_count": 3,
   "id": "ea93c389",
   "metadata": {},
   "outputs": [],
   "source": [
    "birthes = pd.read_html(\"https://uk.wikipedia.org/wiki/%D0%9D%D0%B0%D1%81%D0%B5%D0%BB%D0%B5%D0%BD%D0%BD%D1%8F_%D0%A3%D0%BA%D1%80%D0%B0%D1%97%D0%BD%D0%B8#%D0%9D%D0%B0%D1%80%D0%BE%D0%B4%D0%B6%D1%83%D0%B2%D0%B0%D0%BD%D1%96%D1%81%D1%82%D1%8C\", thousands='.', decimal=',')[10]"
   ]
  },
  {
   "cell_type": "code",
   "execution_count": 16,
   "id": "0d47882e",
   "metadata": {},
   "outputs": [
    {
     "data": {
      "text/html": [
       "<div>\n",
       "<style scoped>\n",
       "    .dataframe tbody tr th:only-of-type {\n",
       "        vertical-align: middle;\n",
       "    }\n",
       "\n",
       "    .dataframe tbody tr th {\n",
       "        vertical-align: top;\n",
       "    }\n",
       "\n",
       "    .dataframe thead th {\n",
       "        text-align: right;\n",
       "    }\n",
       "</style>\n",
       "<table border=\"1\" class=\"dataframe\">\n",
       "  <thead>\n",
       "    <tr style=\"text-align: right;\">\n",
       "      <th></th>\n",
       "      <th>Регіон</th>\n",
       "      <th>1950</th>\n",
       "      <th>1960</th>\n",
       "      <th>1970</th>\n",
       "      <th>1990</th>\n",
       "      <th>2000</th>\n",
       "      <th>2012</th>\n",
       "      <th>2014</th>\n",
       "      <th>2019</th>\n",
       "    </tr>\n",
       "  </thead>\n",
       "  <tbody>\n",
       "    <tr>\n",
       "      <th>0</th>\n",
       "      <td>Крим</td>\n",
       "      <td>23.0</td>\n",
       "      <td>20.6</td>\n",
       "      <td>16.0</td>\n",
       "      <td>13.0</td>\n",
       "      <td>7.3</td>\n",
       "      <td>12.6</td>\n",
       "      <td>11.144</td>\n",
       "      <td>8.017391</td>\n",
       "    </tr>\n",
       "    <tr>\n",
       "      <th>1</th>\n",
       "      <td>Вінницька</td>\n",
       "      <td>22.4</td>\n",
       "      <td>19.2</td>\n",
       "      <td>14.2</td>\n",
       "      <td>12.4</td>\n",
       "      <td>8.4</td>\n",
       "      <td>11.2</td>\n",
       "      <td>10.900</td>\n",
       "      <td>7.600000</td>\n",
       "    </tr>\n",
       "    <tr>\n",
       "      <th>2</th>\n",
       "      <td>Волинська</td>\n",
       "      <td>24.7</td>\n",
       "      <td>25.0</td>\n",
       "      <td>17.9</td>\n",
       "      <td>15.3</td>\n",
       "      <td>11.2</td>\n",
       "      <td>14.8</td>\n",
       "      <td>14.100</td>\n",
       "      <td>10.100000</td>\n",
       "    </tr>\n",
       "    <tr>\n",
       "      <th>3</th>\n",
       "      <td>Дніпропетровська</td>\n",
       "      <td>20.4</td>\n",
       "      <td>20.4</td>\n",
       "      <td>15.1</td>\n",
       "      <td>12.3</td>\n",
       "      <td>7.1</td>\n",
       "      <td>11.2</td>\n",
       "      <td>11.100</td>\n",
       "      <td>7.100000</td>\n",
       "    </tr>\n",
       "    <tr>\n",
       "      <th>4</th>\n",
       "      <td>Донецька</td>\n",
       "      <td>27.1</td>\n",
       "      <td>21.4</td>\n",
       "      <td>14.0</td>\n",
       "      <td>10.9</td>\n",
       "      <td>6.1</td>\n",
       "      <td>9.8</td>\n",
       "      <td>8.200</td>\n",
       "      <td>8.017391</td>\n",
       "    </tr>\n",
       "  </tbody>\n",
       "</table>\n",
       "</div>"
      ],
      "text/plain": [
       "             Регіон  1950  1960  1970  1990  2000  2012    2014       2019\n",
       "0              Крим  23.0  20.6  16.0  13.0   7.3  12.6  11.144   8.017391\n",
       "1         Вінницька  22.4  19.2  14.2  12.4   8.4  11.2  10.900   7.600000\n",
       "2         Волинська  24.7  25.0  17.9  15.3  11.2  14.8  14.100  10.100000\n",
       "3  Дніпропетровська  20.4  20.4  15.1  12.3   7.1  11.2  11.100   7.100000\n",
       "4          Донецька  27.1  21.4  14.0  10.9   6.1   9.8   8.200   8.017391"
      ]
     },
     "execution_count": 16,
     "metadata": {},
     "output_type": "execute_result"
    }
   ],
   "source": [
    "birthes.head()"
   ]
  },
  {
   "cell_type": "code",
   "execution_count": 5,
   "id": "2b5a62a7",
   "metadata": {},
   "outputs": [
    {
     "data": {
      "text/plain": [
       "Регіон     object\n",
       "1950      float64\n",
       "1960      float64\n",
       "1970      float64\n",
       "1990      float64\n",
       "2000      float64\n",
       "2012      float64\n",
       "2014       object\n",
       "2019       object\n",
       "dtype: object"
      ]
     },
     "execution_count": 5,
     "metadata": {},
     "output_type": "execute_result"
    }
   ],
   "source": [
    "birthes.dtypes"
   ]
  },
  {
   "cell_type": "code",
   "execution_count": 6,
   "id": "3e55ba1c",
   "metadata": {},
   "outputs": [
    {
     "data": {
      "text/plain": [
       "(28, 9)"
      ]
     },
     "execution_count": 6,
     "metadata": {},
     "output_type": "execute_result"
    }
   ],
   "source": [
    "birthes.shape"
   ]
  },
  {
   "cell_type": "code",
   "execution_count": 7,
   "id": "afeccc4b",
   "metadata": {},
   "outputs": [],
   "source": [
    "birthes.replace(\"—\", np.nan, inplace=True)\n",
    "birthes[[\"2014\", \"2019\"]] = birthes[[\"2014\", \"2019\"]].apply(pd.to_numeric)\n",
    "birthes = birthes[:-1]"
   ]
  },
  {
   "cell_type": "code",
   "execution_count": 8,
   "id": "00071646",
   "metadata": {},
   "outputs": [
    {
     "data": {
      "text/plain": [
       "Регіон    0\n",
       "1950      2\n",
       "1960      1\n",
       "1970      1\n",
       "1990      0\n",
       "2000      0\n",
       "2012      0\n",
       "2014      2\n",
       "2019      4\n",
       "dtype: int64"
      ]
     },
     "execution_count": 8,
     "metadata": {},
     "output_type": "execute_result"
    }
   ],
   "source": [
    "birthes.isnull().sum()"
   ]
  },
  {
   "cell_type": "code",
   "execution_count": 11,
   "id": "9ffb81a5",
   "metadata": {},
   "outputs": [],
   "source": [
    "birthes.fillna({\n",
    "    \"1950\": birthes[\"1950\"].mean(), \n",
    "    \"1960\": birthes[\"1960\"].mean(),\n",
    "    \"1970\": birthes[\"1970\"].mean(),\n",
    "    \"2014\": birthes[\"2014\"].mean(),\n",
    "    \"2019\": birthes[\"2019\"].mean(),\n",
    "}, inplace=True)"
   ]
  },
  {
   "cell_type": "code",
   "execution_count": 18,
   "id": "cbc77f2e",
   "metadata": {},
   "outputs": [
    {
     "data": {
      "text/plain": [
       "2             Волинська\n",
       "6          Закарпатська\n",
       "8     Івано-Франківська\n",
       "12            Львівська\n",
       "14              Одеська\n",
       "16           Рівненська\n",
       "20           Херсонська\n",
       "23          Чернівецька\n",
       "25                 Київ\n",
       "Name: Регіон, dtype: object"
      ]
     },
     "execution_count": 18,
     "metadata": {},
     "output_type": "execute_result"
    }
   ],
   "source": [
    "birthes[birthes[\"2019\"] > birthes[\"2019\"].mean()][\"Регіон\"]"
   ]
  },
  {
   "cell_type": "code",
   "execution_count": 20,
   "id": "052f2834",
   "metadata": {},
   "outputs": [
    {
     "data": {
      "text/plain": [
       "16    Рівненська\n",
       "Name: Регіон, dtype: object"
      ]
     },
     "execution_count": 20,
     "metadata": {},
     "output_type": "execute_result"
    }
   ],
   "source": [
    "birthes[birthes[\"2014\"] == birthes[\"2014\"].max()][\"Регіон\"]"
   ]
  },
  {
   "cell_type": "code",
   "execution_count": 29,
   "id": "2962b743",
   "metadata": {},
   "outputs": [
    {
     "data": {
      "text/plain": [
       "<AxesSubplot:>"
      ]
     },
     "execution_count": 29,
     "metadata": {},
     "output_type": "execute_result"
    },
    {
     "data": {
      "image/png": "[encoded data removed]",
      "text/plain": [
       "<Figure size 432x288 with 1 Axes>"
      ]
     },
     "metadata": {
      "needs_background": "light"
     },
     "output_type": "display_data"
    }
   ],
   "source": [
    "birthes[\"2019\"].plot(kind=\"bar\")"
   ]
  }
 ],
 "metadata": {
  "kernelspec": {
   "display_name": "Python 3 (ipykernel)",
   "language": "python",
   "name": "python3"
  },
  "language_info": {
   "codemirror_mode": {
    "name": "ipython",
    "version": 3
   },
   "file_extension": ".py",
   "mimetype": "text/x-python",
   "name": "python",
   "nbconvert_exporter": "python",
   "pygments_lexer": "ipython3",
   "version": "3.9.6"
  }
 },
 "nbformat": 4,
 "nbformat_minor": 5
}
