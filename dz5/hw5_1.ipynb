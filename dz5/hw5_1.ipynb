{
 "cells": [
  {
   "cell_type": "code",
   "execution_count": 2,
   "id": "9031e221",
   "metadata": {},
   "outputs": [],
   "source": [
    "import numpy as np\n",
    "import matplotlib.pyplot as plt\n",
    "from scipy.optimize import minimize"
   ]
  },
  {
   "cell_type": "code",
   "execution_count": 3,
   "id": "2c00994e",
   "metadata": {},
   "outputs": [],
   "source": [
    "def perimeter(ab):\n",
    "    x, y = ab\n",
    "    return 2 * x + y"
   ]
  },
  {
   "cell_type": "code",
   "execution_count": 9,
   "id": "4d539d04",
   "metadata": {},
   "outputs": [
    {
     "data": {
      "text/plain": [
       "     fun: 89.44271933161272\n",
       "     jac: array([2., 1.])\n",
       " message: 'Optimization terminated successfully'\n",
       "    nfev: 71\n",
       "     nit: 18\n",
       "    njev: 18\n",
       "  status: 0\n",
       " success: True\n",
       "       x: array([22.36233661, 44.7180461 ])"
      ]
     },
     "execution_count": 9,
     "metadata": {},
     "output_type": "execute_result"
    }
   ],
   "source": [
    "result = minimize(\n",
    "    perimeter, \n",
    "    (1, 1), \n",
    "    bounds=((0, 1000), (0, 1000)), \n",
    "    constraints=(\n",
    "        {'type': 'eq', 'fun': lambda xy: xy[0] * xy[1] - 1000}\n",
    "    )\n",
    ")\n",
    "result"
   ]
  }
 ],
 "metadata": {
  "kernelspec": {
   "display_name": "Python 3 (ipykernel)",
   "language": "python",
   "name": "python3"
  },
  "language_info": {
   "codemirror_mode": {
    "name": "ipython",
    "version": 3
   },
   "file_extension": ".py",
   "mimetype": "text/x-python",
   "name": "python",
   "nbconvert_exporter": "python",
   "pygments_lexer": "ipython3",
   "version": "3.9.6"
  }
 },
 "nbformat": 4,
 "nbformat_minor": 5
}
