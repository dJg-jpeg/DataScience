{
 "cells": [
  {
   "cell_type": "code",
   "execution_count": 4,
   "id": "30d6928d",
   "metadata": {},
   "outputs": [],
   "source": [
    "import numpy as np\n",
    "from scipy.optimize import leastsq, minimize_scalar\n",
    "import matplotlib.pyplot as plt\n",
    "from scipy.integrate import solve_ivp\n",
    "%matplotlib inline"
   ]
  },
  {
   "cell_type": "code",
   "execution_count": 5,
   "id": "42df00fd",
   "metadata": {},
   "outputs": [],
   "source": [
    "a = 0.5\n",
    "b = 0.3\n",
    "N = 1000000\n",
    "S0 = 990000\n",
    "I0 = 7000\n",
    "R0 = 3000\n",
    "t0 = 0\n",
    "tf = 25"
   ]
  },
  {
   "cell_type": "code",
   "execution_count": 6,
   "id": "9a98cf7b",
   "metadata": {},
   "outputs": [],
   "source": [
    "def dsdt(t, s):\n",
    "    return (-1 * a) * s\n",
    "\n",
    "\n",
    "susceptible = solve_ivp(dsdt, (t0, tf), [S0], dense_output=True)\n",
    "\n",
    "\n",
    "def didt(t, i):\n",
    "    return a * susceptible.sol(t) - b * i\n",
    "\n",
    "\n",
    "infected = solve_ivp(didt, (t0, tf), [I0], dense_output=True)\n",
    "\n",
    "\n",
    "def drdt(t, _):\n",
    "    return b * infected.sol(t)\n",
    "\n",
    "\n",
    "recovered = solve_ivp(drdt, (t0, tf), [R0], dense_output = True)"
   ]
  },
  {
   "cell_type": "code",
   "execution_count": 7,
   "id": "f1d3a236",
   "metadata": {},
   "outputs": [
    {
     "data": {
      "text/plain": [
       "array([5.0e-01, 9.9e+05])"
      ]
     },
     "execution_count": 7,
     "metadata": {},
     "output_type": "execute_result"
    }
   ],
   "source": [
    "def s_t(t,s0,a):\n",
    "    return S0 * np.exp(-a * t)\n",
    "\n",
    "\n",
    "def diff_st(params, y, t):\n",
    "    return S0 * np.exp(-a * t)\n",
    "\n",
    "\n",
    "parameters_1 = (a, S0)\n",
    "st = leastsq(diff_st, parameters_1, args=(susceptible.y[0], susceptible.t))\n",
    "st[0]"
   ]
  },
  {
   "cell_type": "code",
   "execution_count": 8,
   "id": "e40416cf",
   "metadata": {},
   "outputs": [
    {
     "data": {
      "text/plain": [
       "array([3.83762944e-01, 1.25281252e+06, 8.08519967e+03])"
      ]
     },
     "execution_count": 8,
     "metadata": {},
     "output_type": "execute_result"
    }
   ],
   "source": [
    "def i_t(t,I0,S0,a):\n",
    "    return (I0 + a * S0 * t) * np.exp(-a * t)\n",
    "\n",
    "\n",
    "def diff_it(p,y,t):\n",
    "    a, S0, I0  = p\n",
    "    return infected.y[0] - i_t(t, I0 ,S0 ,a)\n",
    "\n",
    "\n",
    "parameters_2 = (a, S0, I0)\n",
    "it = leastsq(diff_it, parameters_2, args=(infected.y[0], infected.t))\n",
    "it[0]"
   ]
  },
  {
   "cell_type": "code",
   "execution_count": 9,
   "id": "95b5b028",
   "metadata": {},
   "outputs": [
    {
     "data": {
      "text/plain": [
       "array([3.72578636e-01, 9.65947231e+05, 7.92292167e+03, 3.00000000e+03])"
      ]
     },
     "execution_count": 9,
     "metadata": {},
     "output_type": "execute_result"
    }
   ],
   "source": [
    "def r_t(t,S0,I0,a,N):\n",
    "    return N - s_t(t,S0,a) - i_t(t,I0,S0,a)\n",
    "\n",
    "\n",
    "def diff_rt(p,y,t):\n",
    "    a,S0,I0,R0  = p\n",
    "    return recovered.y[0] - r_t(t,S0,I0,a,N)\n",
    "\n",
    "\n",
    "parameters_3 = (a,S0,I0,R0)\n",
    "rt = leastsq(diff_rt, parameters_3 , args=(recovered.y[0], recovered.t))\n",
    "rt[0]"
   ]
  },
  {
   "cell_type": "code",
   "execution_count": 10,
   "id": "56c06336",
   "metadata": {},
   "outputs": [
    {
     "data": {
      "image/png": "[encoded data removed]",
      "text/plain": [
       "<Figure size 432x288 with 1 Axes>"
      ]
     },
     "metadata": {
      "needs_background": "light"
     },
     "output_type": "display_data"
    }
   ],
   "source": [
    "t = np.linspace(t0,tf,N)\n",
    "y_p = s_t(t,S0,a)\n",
    "yi_p =  i_t(t,I0,S0,a)\n",
    "yr_p = N - y_p -  yi_p\n",
    "plt.plot(t, y_p, label = 'S(t)')\n",
    "plt.plot(t, yi_p, label = 'I(t)')\n",
    "plt.plot(t, yr_p, label = 'R(t)')\n",
    "plt.legend()\n",
    "plt.xlabel(\"Time\")\n",
    "plt.grid()\n",
    "plt.show()"
   ]
  },
  {
   "cell_type": "code",
   "execution_count": 11,
   "id": "2f4a5521",
   "metadata": {},
   "outputs": [
    {
     "data": {
      "text/plain": [
       "1.9858585752092015"
      ]
     },
     "execution_count": 11,
     "metadata": {},
     "output_type": "execute_result"
    }
   ],
   "source": [
    "minimize_scalar(lambda x: -i_t(x, I0, S0, a)).x"
   ]
  }
 ],
 "metadata": {
  "kernelspec": {
   "display_name": "Python 3 (ipykernel)",
   "language": "python",
   "name": "python3"
  },
  "language_info": {
   "codemirror_mode": {
    "name": "ipython",
    "version": 3
   },
   "file_extension": ".py",
   "mimetype": "text/x-python",
   "name": "python",
   "nbconvert_exporter": "python",
   "pygments_lexer": "ipython3",
   "version": "3.9.6"
  }
 },
 "nbformat": 4,
 "nbformat_minor": 5
}
