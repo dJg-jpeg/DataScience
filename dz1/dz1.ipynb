{
 "cells": [
  {
   "cell_type": "code",
   "execution_count": 32,
   "id": "36394d17",
   "metadata": {},
   "outputs": [],
   "source": [
    "import numpy as np"
   ]
  },
  {
   "cell_type": "code",
   "execution_count": 51,
   "id": "c90a82bc",
   "metadata": {
    "scrolled": true
   },
   "outputs": [
    {
     "data": {
      "text/plain": [
       "(10000.0, 25000.0, 15000.0)"
      ]
     },
     "execution_count": 51,
     "metadata": {},
     "output_type": "execute_result"
    }
   ],
   "source": [
    "coefs = np.matrix(\"0.05, 0.07, 0.0; 0.05, 0.0, 0.06; 1.0, 1.0, 1.0\")\n",
    "sums = np.matrix(\"2250.0; 1400.0; 50000.0\")\n",
    "x1, x2, x3 = np.linalg.solve(coefs, sums)\n",
    "x1[0, 0], x2[0, 0], x3[0, 0]"
   ]
  },
  {
   "cell_type": "code",
   "execution_count": 52,
   "id": "7c72f194",
   "metadata": {},
   "outputs": [
    {
     "data": {
      "text/plain": [
       "(436.0, 556.0, 336.0)"
      ]
     },
     "execution_count": 52,
     "metadata": {},
     "output_type": "execute_result"
    }
   ],
   "source": [
    "coefs = np.matrix(\"1, 0, -1;1, -1, 0;1, 1, 1\")\n",
    "iphones = np.matrix(\"100;-120;1328\")\n",
    "x1, x2, x3 = np.linalg.solve(coefs, iphones)\n",
    "x1[0, 0], x2[0, 0], x3[0, 0]"
   ]
  },
  {
   "cell_type": "code",
   "execution_count": 53,
   "id": "db169447",
   "metadata": {},
   "outputs": [
    {
     "name": "stdout",
     "output_type": "stream",
     "text": [
      "x^2 / 3.465836702456737^2 + y^2 / 0.7067531393633848^2 + z^2 / 1.9996664164767055^2\n"
     ]
    }
   ],
   "source": [
    "coefs = np.matrix(\"3, 0, 3;6, 0.25, 0;1, 0.333, 1\")\n",
    "reses = np.matrix(\"1; 1; 1\")\n",
    "xes = np.linalg.solve(coefs, reses)\n",
    "a, b, c = [np.sqrt(x**(-1)) for x in xes]\n",
    "print(f\"x^2 / {a[0, 0]}^2 + y^2 / {b[0, 0]}^2 + z^2 / {c[0, 0]}^2\")"
   ]
  },
  {
   "cell_type": "code",
   "execution_count": 57,
   "id": "f23630ef",
   "metadata": {},
   "outputs": [
    {
     "data": {
      "text/plain": [
       "(4.0, 5.0, 3.0)"
      ]
     },
     "execution_count": 57,
     "metadata": {},
     "output_type": "execute_result"
    }
   ],
   "source": [
    "coefs = np.matrix(\"1, 1, 1; 9, 3, 1; 1, -1, 1\")\n",
    "ys = np.matrix(\"12; 54; 2\")\n",
    "a, b, c = np.linalg.solve(coefs, ys)\n",
    "a[0, 0], b[0, 0], c[0, 0]"
   ]
  },
  {
   "cell_type": "code",
   "execution_count": 59,
   "id": "05c2eefb",
   "metadata": {},
   "outputs": [],
   "source": [
    "def get_polynom(coords):\n",
    "    ys = np.array([dot[1] for dot in coords])\n",
    "    xes = [[dot[0]**power for power in reversed(range(len(coords)))] for dot in coords]\n",
    "    return np.linalg.solve(xes, ys)"
   ]
  },
  {
   "cell_type": "code",
   "execution_count": 60,
   "id": "a2181f74",
   "metadata": {},
   "outputs": [
    {
     "data": {
      "text/plain": [
       "array([4., 5., 3.])"
      ]
     },
     "execution_count": 60,
     "metadata": {},
     "output_type": "execute_result"
    }
   ],
   "source": [
    "get_polynom([(1, 12), (3, 54), (-1, 2)])"
   ]
  }
 ],
 "metadata": {
  "kernelspec": {
   "display_name": "Python 3 (ipykernel)",
   "language": "python",
   "name": "python3"
  },
  "language_info": {
   "codemirror_mode": {
    "name": "ipython",
    "version": 3
   },
   "file_extension": ".py",
   "mimetype": "text/x-python",
   "name": "python",
   "nbconvert_exporter": "python",
   "pygments_lexer": "ipython3",
   "version": "3.9.6"
  }
 },
 "nbformat": 4,
 "nbformat_minor": 5
}
