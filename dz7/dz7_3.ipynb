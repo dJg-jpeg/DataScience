{
 "cells": [
  {
   "cell_type": "code",
   "execution_count": 44,
   "id": "b5cb8a85",
   "metadata": {},
   "outputs": [],
   "source": [
    "from sklearn.datasets import load_diabetes\n",
    "from sklearn.model_selection import train_test_split\n",
    "from sklearn.linear_model import LinearRegression\n",
    "from sklearn.metrics import max_error"
   ]
  },
  {
   "cell_type": "code",
   "execution_count": 45,
   "id": "f997222c",
   "metadata": {},
   "outputs": [],
   "source": [
    "x, y = load_diabetes(return_X_y = True)\n",
    "\n",
    "\n",
    "def return_max_error(x_y):\n",
    "    x_train, x_test, y_train, y_test = x_y\n",
    "    regressor = LinearRegression().fit(x_train, y_train)\n",
    "    y_pred = regressor.predict(x_test)\n",
    "    return max_error(y_test, y_pred)"
   ]
  },
  {
   "cell_type": "code",
   "execution_count": 54,
   "id": "b8f81eaa",
   "metadata": {},
   "outputs": [
    {
     "name": "stdout",
     "output_type": "stream",
     "text": [
      "Default splitting max error : 125.82354482420874\n",
      "Custom splitting max error : 155.14895783754366\n"
     ]
    }
   ],
   "source": [
    "print(f\"Default splitting max error : {return_max_error(train_test_split(x, y, shuffle=True))}\\n\"\n",
    "      f\"Custom splitting max error : {return_max_error(train_test_split(x, y, train_size=0.561488, shuffle=True))}\")"
   ]
  }
 ],
 "metadata": {
  "kernelspec": {
   "display_name": "Python 3 (ipykernel)",
   "language": "python",
   "name": "python3"
  },
  "language_info": {
   "codemirror_mode": {
    "name": "ipython",
    "version": 3
   },
   "file_extension": ".py",
   "mimetype": "text/x-python",
   "name": "python",
   "nbconvert_exporter": "python",
   "pygments_lexer": "ipython3",
   "version": "3.9.6"
  }
 },
 "nbformat": 4,
 "nbformat_minor": 5
}
