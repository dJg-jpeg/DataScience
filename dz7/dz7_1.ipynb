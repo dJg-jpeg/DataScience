{
 "cells": [
  {
   "cell_type": "code",
   "execution_count": 47,
   "id": "baac1d0a",
   "metadata": {},
   "outputs": [],
   "source": [
    "from sklearn.datasets import load_wine\n",
    "from sklearn.model_selection import train_test_split\n",
    "from sklearn.multiclass import OneVsRestClassifier\n",
    "from sklearn.svm import SVC\n",
    "from sklearn.metrics import accuracy_score"
   ]
  },
  {
   "cell_type": "code",
   "execution_count": 48,
   "id": "57f02e74",
   "metadata": {},
   "outputs": [],
   "source": [
    "x, y = load_wine(return_X_y=True)\n",
    "\n",
    "\n",
    "def return_accuracy_score(x_y):\n",
    "    x_train, x_test, y_train, y_test = x_y\n",
    "    wine_model = OneVsRestClassifier(SVC()).fit(x_train, y_train)\n",
    "    y_pred = wine_model.predict(x_test)\n",
    "    return accuracy_score(y_test, y_pred)"
   ]
  },
  {
   "cell_type": "code",
   "execution_count": 78,
   "id": "e663c1ff",
   "metadata": {},
   "outputs": [
    {
     "name": "stdout",
     "output_type": "stream",
     "text": [
      "Default splitting accuracy : 0.7333333333333333\n",
      "Custom splitting accuracy : 0.7341772151898734\n"
     ]
    }
   ],
   "source": [
    "print(f\"Default splitting accuracy : {return_accuracy_score(train_test_split(x, y, shuffle=True))}\\n\"\n",
    "      f\"Custom splitting accuracy : {return_accuracy_score(train_test_split(x, y, train_size=0.561488, shuffle=True))}\")"
   ]
  }
 ],
 "metadata": {
  "kernelspec": {
   "display_name": "Python 3 (ipykernel)",
   "language": "python",
   "name": "python3"
  },
  "language_info": {
   "codemirror_mode": {
    "name": "ipython",
    "version": 3
   },
   "file_extension": ".py",
   "mimetype": "text/x-python",
   "name": "python",
   "nbconvert_exporter": "python",
   "pygments_lexer": "ipython3",
   "version": "3.9.6"
  }
 },
 "nbformat": 4,
 "nbformat_minor": 5
}
